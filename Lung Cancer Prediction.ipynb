{
 "cells": [
  {
   "cell_type": "code",
   "execution_count": 1,
   "id": "eb07fe35",
   "metadata": {},
   "outputs": [],
   "source": [
    "##### Standard Libraries #####\n",
    "import numpy as np\n",
    "import pandas as pd\n",
    "import matplotlib.pyplot as plt\n",
    "import seaborn as sns\n",
    "from numpy import log, dot, e\n",
    "%matplotlib inline\n",
    "\n",
    "##### For Preprocessing #####\n",
    "from sklearn.model_selection import train_test_split\n",
    "from sklearn import preprocessing\n",
    "from sklearn.preprocessing import StandardScaler\n",
    "\n",
    "##### For Building the Model #####\n",
    "from sklearn.linear_model import LogisticRegression\n",
    "from sklearn.naive_bayes import GaussianNB\n",
    "from sklearn.pipeline import make_pipeline\n",
    "\n",
    "##### For Validation of the Model #####\n",
    "from sklearn.model_selection import cross_val_score\n",
    "from sklearn.metrics import accuracy_score\n",
    "from sklearn.metrics import precision_recall_fscore_support\n",
    "from sklearn.metrics import confusion_matrix\n",
    "from sklearn.metrics import classification_report\n",
    "from sklearn.metrics import ConfusionMatrixDisplay"
   ]
  },
  {
   "cell_type": "markdown",
   "id": "6d5bcefb",
   "metadata": {},
   "source": [
    "### Loading and Preprocessing Data"
   ]
  },
  {
   "cell_type": "code",
   "execution_count": 2,
   "id": "77871232",
   "metadata": {
    "scrolled": true
   },
   "outputs": [
    {
     "name": "stdout",
     "output_type": "stream",
     "text": [
      "Size of data: (1000, 25)\n"
     ]
    },
    {
     "data": {
      "text/html": [
       "<div>\n",
       "<style scoped>\n",
       "    .dataframe tbody tr th:only-of-type {\n",
       "        vertical-align: middle;\n",
       "    }\n",
       "\n",
       "    .dataframe tbody tr th {\n",
       "        vertical-align: top;\n",
       "    }\n",
       "\n",
       "    .dataframe thead th {\n",
       "        text-align: right;\n",
       "    }\n",
       "</style>\n",
       "<table border=\"1\" class=\"dataframe\">\n",
       "  <thead>\n",
       "    <tr style=\"text-align: right;\">\n",
       "      <th></th>\n",
       "      <th>Patient Id</th>\n",
       "      <th>Age</th>\n",
       "      <th>Gender</th>\n",
       "      <th>Air Pollution</th>\n",
       "      <th>Alcohol use</th>\n",
       "      <th>Dust Allergy</th>\n",
       "      <th>OccuPational Hazards</th>\n",
       "      <th>Genetic Risk</th>\n",
       "      <th>chronic Lung Disease</th>\n",
       "      <th>Balanced Diet</th>\n",
       "      <th>...</th>\n",
       "      <th>Fatigue</th>\n",
       "      <th>Weight Loss</th>\n",
       "      <th>Shortness of Breath</th>\n",
       "      <th>Wheezing</th>\n",
       "      <th>Swallowing Difficulty</th>\n",
       "      <th>Clubbing of Finger Nails</th>\n",
       "      <th>Frequent Cold</th>\n",
       "      <th>Dry Cough</th>\n",
       "      <th>Snoring</th>\n",
       "      <th>Level</th>\n",
       "    </tr>\n",
       "  </thead>\n",
       "  <tbody>\n",
       "    <tr>\n",
       "      <th>0</th>\n",
       "      <td>P1</td>\n",
       "      <td>33</td>\n",
       "      <td>1</td>\n",
       "      <td>2</td>\n",
       "      <td>4</td>\n",
       "      <td>5</td>\n",
       "      <td>4</td>\n",
       "      <td>3</td>\n",
       "      <td>2</td>\n",
       "      <td>2</td>\n",
       "      <td>...</td>\n",
       "      <td>3</td>\n",
       "      <td>4</td>\n",
       "      <td>2</td>\n",
       "      <td>2</td>\n",
       "      <td>3</td>\n",
       "      <td>1</td>\n",
       "      <td>2</td>\n",
       "      <td>3</td>\n",
       "      <td>4</td>\n",
       "      <td>Low</td>\n",
       "    </tr>\n",
       "    <tr>\n",
       "      <th>1</th>\n",
       "      <td>P10</td>\n",
       "      <td>17</td>\n",
       "      <td>1</td>\n",
       "      <td>3</td>\n",
       "      <td>1</td>\n",
       "      <td>5</td>\n",
       "      <td>3</td>\n",
       "      <td>4</td>\n",
       "      <td>2</td>\n",
       "      <td>2</td>\n",
       "      <td>...</td>\n",
       "      <td>1</td>\n",
       "      <td>3</td>\n",
       "      <td>7</td>\n",
       "      <td>8</td>\n",
       "      <td>6</td>\n",
       "      <td>2</td>\n",
       "      <td>1</td>\n",
       "      <td>7</td>\n",
       "      <td>2</td>\n",
       "      <td>Medium</td>\n",
       "    </tr>\n",
       "    <tr>\n",
       "      <th>2</th>\n",
       "      <td>P100</td>\n",
       "      <td>35</td>\n",
       "      <td>1</td>\n",
       "      <td>4</td>\n",
       "      <td>5</td>\n",
       "      <td>6</td>\n",
       "      <td>5</td>\n",
       "      <td>5</td>\n",
       "      <td>4</td>\n",
       "      <td>6</td>\n",
       "      <td>...</td>\n",
       "      <td>8</td>\n",
       "      <td>7</td>\n",
       "      <td>9</td>\n",
       "      <td>2</td>\n",
       "      <td>1</td>\n",
       "      <td>4</td>\n",
       "      <td>6</td>\n",
       "      <td>7</td>\n",
       "      <td>2</td>\n",
       "      <td>High</td>\n",
       "    </tr>\n",
       "    <tr>\n",
       "      <th>3</th>\n",
       "      <td>P1000</td>\n",
       "      <td>37</td>\n",
       "      <td>1</td>\n",
       "      <td>7</td>\n",
       "      <td>7</td>\n",
       "      <td>7</td>\n",
       "      <td>7</td>\n",
       "      <td>6</td>\n",
       "      <td>7</td>\n",
       "      <td>7</td>\n",
       "      <td>...</td>\n",
       "      <td>4</td>\n",
       "      <td>2</td>\n",
       "      <td>3</td>\n",
       "      <td>1</td>\n",
       "      <td>4</td>\n",
       "      <td>5</td>\n",
       "      <td>6</td>\n",
       "      <td>7</td>\n",
       "      <td>5</td>\n",
       "      <td>High</td>\n",
       "    </tr>\n",
       "    <tr>\n",
       "      <th>4</th>\n",
       "      <td>P101</td>\n",
       "      <td>46</td>\n",
       "      <td>1</td>\n",
       "      <td>6</td>\n",
       "      <td>8</td>\n",
       "      <td>7</td>\n",
       "      <td>7</td>\n",
       "      <td>7</td>\n",
       "      <td>6</td>\n",
       "      <td>7</td>\n",
       "      <td>...</td>\n",
       "      <td>3</td>\n",
       "      <td>2</td>\n",
       "      <td>4</td>\n",
       "      <td>1</td>\n",
       "      <td>4</td>\n",
       "      <td>2</td>\n",
       "      <td>4</td>\n",
       "      <td>2</td>\n",
       "      <td>3</td>\n",
       "      <td>High</td>\n",
       "    </tr>\n",
       "  </tbody>\n",
       "</table>\n",
       "<p>5 rows × 25 columns</p>\n",
       "</div>"
      ],
      "text/plain": [
       "  Patient Id  Age  Gender  Air Pollution  Alcohol use  Dust Allergy  \\\n",
       "0         P1   33       1              2            4             5   \n",
       "1        P10   17       1              3            1             5   \n",
       "2       P100   35       1              4            5             6   \n",
       "3      P1000   37       1              7            7             7   \n",
       "4       P101   46       1              6            8             7   \n",
       "\n",
       "   OccuPational Hazards  Genetic Risk  chronic Lung Disease  Balanced Diet  \\\n",
       "0                     4             3                     2              2   \n",
       "1                     3             4                     2              2   \n",
       "2                     5             5                     4              6   \n",
       "3                     7             6                     7              7   \n",
       "4                     7             7                     6              7   \n",
       "\n",
       "   ...  Fatigue  Weight Loss  Shortness of Breath  Wheezing  \\\n",
       "0  ...        3            4                    2         2   \n",
       "1  ...        1            3                    7         8   \n",
       "2  ...        8            7                    9         2   \n",
       "3  ...        4            2                    3         1   \n",
       "4  ...        3            2                    4         1   \n",
       "\n",
       "   Swallowing Difficulty  Clubbing of Finger Nails  Frequent Cold  Dry Cough  \\\n",
       "0                      3                         1              2          3   \n",
       "1                      6                         2              1          7   \n",
       "2                      1                         4              6          7   \n",
       "3                      4                         5              6          7   \n",
       "4                      4                         2              4          2   \n",
       "\n",
       "   Snoring   Level  \n",
       "0        4     Low  \n",
       "1        2  Medium  \n",
       "2        2    High  \n",
       "3        5    High  \n",
       "4        3    High  \n",
       "\n",
       "[5 rows x 25 columns]"
      ]
     },
     "execution_count": 2,
     "metadata": {},
     "output_type": "execute_result"
    }
   ],
   "source": [
    "### Cancer dataset\n",
    "df = pd.read_csv(\"lung_cancer_data.csv\")\n",
    "df.drop(columns=df.columns[0], axis=1, inplace=True)\n",
    "print(\"Size of data:\", df.shape)\n",
    "df.head()"
   ]
  },
  {
   "cell_type": "code",
   "execution_count": 3,
   "id": "db709a8f",
   "metadata": {},
   "outputs": [],
   "source": [
    "predictor_df = df.copy()"
   ]
  },
  {
   "cell_type": "code",
   "execution_count": 4,
   "id": "e4d06e96",
   "metadata": {},
   "outputs": [
    {
     "data": {
      "text/html": [
       "<div>\n",
       "<style scoped>\n",
       "    .dataframe tbody tr th:only-of-type {\n",
       "        vertical-align: middle;\n",
       "    }\n",
       "\n",
       "    .dataframe tbody tr th {\n",
       "        vertical-align: top;\n",
       "    }\n",
       "\n",
       "    .dataframe thead th {\n",
       "        text-align: right;\n",
       "    }\n",
       "</style>\n",
       "<table border=\"1\" class=\"dataframe\">\n",
       "  <thead>\n",
       "    <tr style=\"text-align: right;\">\n",
       "      <th></th>\n",
       "      <th>Patient Id</th>\n",
       "      <th>Age</th>\n",
       "      <th>Gender</th>\n",
       "      <th>Air Pollution</th>\n",
       "      <th>Alcohol use</th>\n",
       "      <th>Dust Allergy</th>\n",
       "      <th>OccuPational Hazards</th>\n",
       "      <th>Genetic Risk</th>\n",
       "      <th>chronic Lung Disease</th>\n",
       "      <th>Balanced Diet</th>\n",
       "      <th>...</th>\n",
       "      <th>Passive Smoker</th>\n",
       "      <th>Chest Pain</th>\n",
       "      <th>Coughing of Blood</th>\n",
       "      <th>Fatigue</th>\n",
       "      <th>Weight Loss</th>\n",
       "      <th>Shortness of Breath</th>\n",
       "      <th>Wheezing</th>\n",
       "      <th>Swallowing Difficulty</th>\n",
       "      <th>Clubbing of Finger Nails</th>\n",
       "      <th>Level</th>\n",
       "    </tr>\n",
       "  </thead>\n",
       "  <tbody>\n",
       "    <tr>\n",
       "      <th>0</th>\n",
       "      <td>P1</td>\n",
       "      <td>33</td>\n",
       "      <td>1</td>\n",
       "      <td>2</td>\n",
       "      <td>4</td>\n",
       "      <td>5</td>\n",
       "      <td>4</td>\n",
       "      <td>3</td>\n",
       "      <td>2</td>\n",
       "      <td>2</td>\n",
       "      <td>...</td>\n",
       "      <td>2</td>\n",
       "      <td>2</td>\n",
       "      <td>4</td>\n",
       "      <td>3</td>\n",
       "      <td>4</td>\n",
       "      <td>2</td>\n",
       "      <td>2</td>\n",
       "      <td>3</td>\n",
       "      <td>1</td>\n",
       "      <td>Low</td>\n",
       "    </tr>\n",
       "    <tr>\n",
       "      <th>1</th>\n",
       "      <td>P10</td>\n",
       "      <td>17</td>\n",
       "      <td>1</td>\n",
       "      <td>3</td>\n",
       "      <td>1</td>\n",
       "      <td>5</td>\n",
       "      <td>3</td>\n",
       "      <td>4</td>\n",
       "      <td>2</td>\n",
       "      <td>2</td>\n",
       "      <td>...</td>\n",
       "      <td>4</td>\n",
       "      <td>2</td>\n",
       "      <td>3</td>\n",
       "      <td>1</td>\n",
       "      <td>3</td>\n",
       "      <td>7</td>\n",
       "      <td>8</td>\n",
       "      <td>6</td>\n",
       "      <td>2</td>\n",
       "      <td>Medium</td>\n",
       "    </tr>\n",
       "    <tr>\n",
       "      <th>2</th>\n",
       "      <td>P100</td>\n",
       "      <td>35</td>\n",
       "      <td>1</td>\n",
       "      <td>4</td>\n",
       "      <td>5</td>\n",
       "      <td>6</td>\n",
       "      <td>5</td>\n",
       "      <td>5</td>\n",
       "      <td>4</td>\n",
       "      <td>6</td>\n",
       "      <td>...</td>\n",
       "      <td>3</td>\n",
       "      <td>4</td>\n",
       "      <td>8</td>\n",
       "      <td>8</td>\n",
       "      <td>7</td>\n",
       "      <td>9</td>\n",
       "      <td>2</td>\n",
       "      <td>1</td>\n",
       "      <td>4</td>\n",
       "      <td>High</td>\n",
       "    </tr>\n",
       "    <tr>\n",
       "      <th>3</th>\n",
       "      <td>P1000</td>\n",
       "      <td>37</td>\n",
       "      <td>1</td>\n",
       "      <td>7</td>\n",
       "      <td>7</td>\n",
       "      <td>7</td>\n",
       "      <td>7</td>\n",
       "      <td>6</td>\n",
       "      <td>7</td>\n",
       "      <td>7</td>\n",
       "      <td>...</td>\n",
       "      <td>7</td>\n",
       "      <td>7</td>\n",
       "      <td>8</td>\n",
       "      <td>4</td>\n",
       "      <td>2</td>\n",
       "      <td>3</td>\n",
       "      <td>1</td>\n",
       "      <td>4</td>\n",
       "      <td>5</td>\n",
       "      <td>High</td>\n",
       "    </tr>\n",
       "    <tr>\n",
       "      <th>4</th>\n",
       "      <td>P101</td>\n",
       "      <td>46</td>\n",
       "      <td>1</td>\n",
       "      <td>6</td>\n",
       "      <td>8</td>\n",
       "      <td>7</td>\n",
       "      <td>7</td>\n",
       "      <td>7</td>\n",
       "      <td>6</td>\n",
       "      <td>7</td>\n",
       "      <td>...</td>\n",
       "      <td>7</td>\n",
       "      <td>7</td>\n",
       "      <td>9</td>\n",
       "      <td>3</td>\n",
       "      <td>2</td>\n",
       "      <td>4</td>\n",
       "      <td>1</td>\n",
       "      <td>4</td>\n",
       "      <td>2</td>\n",
       "      <td>High</td>\n",
       "    </tr>\n",
       "    <tr>\n",
       "      <th>...</th>\n",
       "      <td>...</td>\n",
       "      <td>...</td>\n",
       "      <td>...</td>\n",
       "      <td>...</td>\n",
       "      <td>...</td>\n",
       "      <td>...</td>\n",
       "      <td>...</td>\n",
       "      <td>...</td>\n",
       "      <td>...</td>\n",
       "      <td>...</td>\n",
       "      <td>...</td>\n",
       "      <td>...</td>\n",
       "      <td>...</td>\n",
       "      <td>...</td>\n",
       "      <td>...</td>\n",
       "      <td>...</td>\n",
       "      <td>...</td>\n",
       "      <td>...</td>\n",
       "      <td>...</td>\n",
       "      <td>...</td>\n",
       "      <td>...</td>\n",
       "    </tr>\n",
       "    <tr>\n",
       "      <th>995</th>\n",
       "      <td>P995</td>\n",
       "      <td>44</td>\n",
       "      <td>1</td>\n",
       "      <td>6</td>\n",
       "      <td>7</td>\n",
       "      <td>7</td>\n",
       "      <td>7</td>\n",
       "      <td>7</td>\n",
       "      <td>6</td>\n",
       "      <td>7</td>\n",
       "      <td>...</td>\n",
       "      <td>8</td>\n",
       "      <td>7</td>\n",
       "      <td>7</td>\n",
       "      <td>5</td>\n",
       "      <td>3</td>\n",
       "      <td>2</td>\n",
       "      <td>7</td>\n",
       "      <td>8</td>\n",
       "      <td>2</td>\n",
       "      <td>High</td>\n",
       "    </tr>\n",
       "    <tr>\n",
       "      <th>996</th>\n",
       "      <td>P996</td>\n",
       "      <td>37</td>\n",
       "      <td>2</td>\n",
       "      <td>6</td>\n",
       "      <td>8</td>\n",
       "      <td>7</td>\n",
       "      <td>7</td>\n",
       "      <td>7</td>\n",
       "      <td>6</td>\n",
       "      <td>7</td>\n",
       "      <td>...</td>\n",
       "      <td>8</td>\n",
       "      <td>7</td>\n",
       "      <td>7</td>\n",
       "      <td>9</td>\n",
       "      <td>6</td>\n",
       "      <td>5</td>\n",
       "      <td>7</td>\n",
       "      <td>2</td>\n",
       "      <td>4</td>\n",
       "      <td>High</td>\n",
       "    </tr>\n",
       "    <tr>\n",
       "      <th>997</th>\n",
       "      <td>P997</td>\n",
       "      <td>25</td>\n",
       "      <td>2</td>\n",
       "      <td>4</td>\n",
       "      <td>5</td>\n",
       "      <td>6</td>\n",
       "      <td>5</td>\n",
       "      <td>5</td>\n",
       "      <td>4</td>\n",
       "      <td>6</td>\n",
       "      <td>...</td>\n",
       "      <td>3</td>\n",
       "      <td>4</td>\n",
       "      <td>8</td>\n",
       "      <td>8</td>\n",
       "      <td>7</td>\n",
       "      <td>9</td>\n",
       "      <td>2</td>\n",
       "      <td>1</td>\n",
       "      <td>4</td>\n",
       "      <td>High</td>\n",
       "    </tr>\n",
       "    <tr>\n",
       "      <th>998</th>\n",
       "      <td>P998</td>\n",
       "      <td>18</td>\n",
       "      <td>2</td>\n",
       "      <td>6</td>\n",
       "      <td>8</td>\n",
       "      <td>7</td>\n",
       "      <td>7</td>\n",
       "      <td>7</td>\n",
       "      <td>6</td>\n",
       "      <td>7</td>\n",
       "      <td>...</td>\n",
       "      <td>7</td>\n",
       "      <td>7</td>\n",
       "      <td>9</td>\n",
       "      <td>3</td>\n",
       "      <td>2</td>\n",
       "      <td>4</td>\n",
       "      <td>1</td>\n",
       "      <td>4</td>\n",
       "      <td>2</td>\n",
       "      <td>High</td>\n",
       "    </tr>\n",
       "    <tr>\n",
       "      <th>999</th>\n",
       "      <td>P999</td>\n",
       "      <td>47</td>\n",
       "      <td>1</td>\n",
       "      <td>6</td>\n",
       "      <td>5</td>\n",
       "      <td>6</td>\n",
       "      <td>5</td>\n",
       "      <td>5</td>\n",
       "      <td>4</td>\n",
       "      <td>6</td>\n",
       "      <td>...</td>\n",
       "      <td>3</td>\n",
       "      <td>4</td>\n",
       "      <td>8</td>\n",
       "      <td>8</td>\n",
       "      <td>7</td>\n",
       "      <td>9</td>\n",
       "      <td>2</td>\n",
       "      <td>1</td>\n",
       "      <td>4</td>\n",
       "      <td>High</td>\n",
       "    </tr>\n",
       "  </tbody>\n",
       "</table>\n",
       "<p>1000 rows × 22 columns</p>\n",
       "</div>"
      ],
      "text/plain": [
       "    Patient Id  Age  Gender  Air Pollution  Alcohol use  Dust Allergy  \\\n",
       "0           P1   33       1              2            4             5   \n",
       "1          P10   17       1              3            1             5   \n",
       "2         P100   35       1              4            5             6   \n",
       "3        P1000   37       1              7            7             7   \n",
       "4         P101   46       1              6            8             7   \n",
       "..         ...  ...     ...            ...          ...           ...   \n",
       "995       P995   44       1              6            7             7   \n",
       "996       P996   37       2              6            8             7   \n",
       "997       P997   25       2              4            5             6   \n",
       "998       P998   18       2              6            8             7   \n",
       "999       P999   47       1              6            5             6   \n",
       "\n",
       "     OccuPational Hazards  Genetic Risk  chronic Lung Disease  Balanced Diet  \\\n",
       "0                       4             3                     2              2   \n",
       "1                       3             4                     2              2   \n",
       "2                       5             5                     4              6   \n",
       "3                       7             6                     7              7   \n",
       "4                       7             7                     6              7   \n",
       "..                    ...           ...                   ...            ...   \n",
       "995                     7             7                     6              7   \n",
       "996                     7             7                     6              7   \n",
       "997                     5             5                     4              6   \n",
       "998                     7             7                     6              7   \n",
       "999                     5             5                     4              6   \n",
       "\n",
       "     ...  Passive Smoker  Chest Pain  Coughing of Blood  Fatigue  Weight Loss  \\\n",
       "0    ...               2           2                  4        3            4   \n",
       "1    ...               4           2                  3        1            3   \n",
       "2    ...               3           4                  8        8            7   \n",
       "3    ...               7           7                  8        4            2   \n",
       "4    ...               7           7                  9        3            2   \n",
       "..   ...             ...         ...                ...      ...          ...   \n",
       "995  ...               8           7                  7        5            3   \n",
       "996  ...               8           7                  7        9            6   \n",
       "997  ...               3           4                  8        8            7   \n",
       "998  ...               7           7                  9        3            2   \n",
       "999  ...               3           4                  8        8            7   \n",
       "\n",
       "     Shortness of Breath  Wheezing  Swallowing Difficulty  \\\n",
       "0                      2         2                      3   \n",
       "1                      7         8                      6   \n",
       "2                      9         2                      1   \n",
       "3                      3         1                      4   \n",
       "4                      4         1                      4   \n",
       "..                   ...       ...                    ...   \n",
       "995                    2         7                      8   \n",
       "996                    5         7                      2   \n",
       "997                    9         2                      1   \n",
       "998                    4         1                      4   \n",
       "999                    9         2                      1   \n",
       "\n",
       "     Clubbing of Finger Nails   Level  \n",
       "0                           1     Low  \n",
       "1                           2  Medium  \n",
       "2                           4    High  \n",
       "3                           5    High  \n",
       "4                           2    High  \n",
       "..                        ...     ...  \n",
       "995                         2    High  \n",
       "996                         4    High  \n",
       "997                         4    High  \n",
       "998                         2    High  \n",
       "999                         4    High  \n",
       "\n",
       "[1000 rows x 22 columns]"
      ]
     },
     "execution_count": 4,
     "metadata": {},
     "output_type": "execute_result"
    }
   ],
   "source": [
    "predictor_df.drop(columns=['Frequent Cold', 'Dry Cough', 'Snoring'] , axis=1, inplace=True)\n",
    "predictor_df"
   ]
  },
  {
   "cell_type": "code",
   "execution_count": 5,
   "id": "a63f0bd9",
   "metadata": {},
   "outputs": [
    {
     "data": {
      "text/html": [
       "<div>\n",
       "<style scoped>\n",
       "    .dataframe tbody tr th:only-of-type {\n",
       "        vertical-align: middle;\n",
       "    }\n",
       "\n",
       "    .dataframe tbody tr th {\n",
       "        vertical-align: top;\n",
       "    }\n",
       "\n",
       "    .dataframe thead th {\n",
       "        text-align: right;\n",
       "    }\n",
       "</style>\n",
       "<table border=\"1\" class=\"dataframe\">\n",
       "  <thead>\n",
       "    <tr style=\"text-align: right;\">\n",
       "      <th></th>\n",
       "      <th>Age</th>\n",
       "      <th>Gender</th>\n",
       "      <th>Air Pollution</th>\n",
       "      <th>Alcohol use</th>\n",
       "      <th>Dust Allergy</th>\n",
       "      <th>OccuPational Hazards</th>\n",
       "      <th>Genetic Risk</th>\n",
       "      <th>chronic Lung Disease</th>\n",
       "      <th>Balanced Diet</th>\n",
       "      <th>Obesity</th>\n",
       "      <th>Smoking</th>\n",
       "      <th>Passive Smoker</th>\n",
       "      <th>Chest Pain</th>\n",
       "      <th>Coughing of Blood</th>\n",
       "      <th>Fatigue</th>\n",
       "      <th>Weight Loss</th>\n",
       "      <th>Shortness of Breath</th>\n",
       "      <th>Wheezing</th>\n",
       "      <th>Swallowing Difficulty</th>\n",
       "      <th>Clubbing of Finger Nails</th>\n",
       "    </tr>\n",
       "  </thead>\n",
       "  <tbody>\n",
       "    <tr>\n",
       "      <th>0</th>\n",
       "      <td>33</td>\n",
       "      <td>1</td>\n",
       "      <td>2</td>\n",
       "      <td>4</td>\n",
       "      <td>5</td>\n",
       "      <td>4</td>\n",
       "      <td>3</td>\n",
       "      <td>2</td>\n",
       "      <td>2</td>\n",
       "      <td>4</td>\n",
       "      <td>3</td>\n",
       "      <td>2</td>\n",
       "      <td>2</td>\n",
       "      <td>4</td>\n",
       "      <td>3</td>\n",
       "      <td>4</td>\n",
       "      <td>2</td>\n",
       "      <td>2</td>\n",
       "      <td>3</td>\n",
       "      <td>1</td>\n",
       "    </tr>\n",
       "    <tr>\n",
       "      <th>1</th>\n",
       "      <td>17</td>\n",
       "      <td>1</td>\n",
       "      <td>3</td>\n",
       "      <td>1</td>\n",
       "      <td>5</td>\n",
       "      <td>3</td>\n",
       "      <td>4</td>\n",
       "      <td>2</td>\n",
       "      <td>2</td>\n",
       "      <td>2</td>\n",
       "      <td>2</td>\n",
       "      <td>4</td>\n",
       "      <td>2</td>\n",
       "      <td>3</td>\n",
       "      <td>1</td>\n",
       "      <td>3</td>\n",
       "      <td>7</td>\n",
       "      <td>8</td>\n",
       "      <td>6</td>\n",
       "      <td>2</td>\n",
       "    </tr>\n",
       "    <tr>\n",
       "      <th>2</th>\n",
       "      <td>35</td>\n",
       "      <td>1</td>\n",
       "      <td>4</td>\n",
       "      <td>5</td>\n",
       "      <td>6</td>\n",
       "      <td>5</td>\n",
       "      <td>5</td>\n",
       "      <td>4</td>\n",
       "      <td>6</td>\n",
       "      <td>7</td>\n",
       "      <td>2</td>\n",
       "      <td>3</td>\n",
       "      <td>4</td>\n",
       "      <td>8</td>\n",
       "      <td>8</td>\n",
       "      <td>7</td>\n",
       "      <td>9</td>\n",
       "      <td>2</td>\n",
       "      <td>1</td>\n",
       "      <td>4</td>\n",
       "    </tr>\n",
       "    <tr>\n",
       "      <th>3</th>\n",
       "      <td>37</td>\n",
       "      <td>1</td>\n",
       "      <td>7</td>\n",
       "      <td>7</td>\n",
       "      <td>7</td>\n",
       "      <td>7</td>\n",
       "      <td>6</td>\n",
       "      <td>7</td>\n",
       "      <td>7</td>\n",
       "      <td>7</td>\n",
       "      <td>7</td>\n",
       "      <td>7</td>\n",
       "      <td>7</td>\n",
       "      <td>8</td>\n",
       "      <td>4</td>\n",
       "      <td>2</td>\n",
       "      <td>3</td>\n",
       "      <td>1</td>\n",
       "      <td>4</td>\n",
       "      <td>5</td>\n",
       "    </tr>\n",
       "    <tr>\n",
       "      <th>4</th>\n",
       "      <td>46</td>\n",
       "      <td>1</td>\n",
       "      <td>6</td>\n",
       "      <td>8</td>\n",
       "      <td>7</td>\n",
       "      <td>7</td>\n",
       "      <td>7</td>\n",
       "      <td>6</td>\n",
       "      <td>7</td>\n",
       "      <td>7</td>\n",
       "      <td>8</td>\n",
       "      <td>7</td>\n",
       "      <td>7</td>\n",
       "      <td>9</td>\n",
       "      <td>3</td>\n",
       "      <td>2</td>\n",
       "      <td>4</td>\n",
       "      <td>1</td>\n",
       "      <td>4</td>\n",
       "      <td>2</td>\n",
       "    </tr>\n",
       "    <tr>\n",
       "      <th>...</th>\n",
       "      <td>...</td>\n",
       "      <td>...</td>\n",
       "      <td>...</td>\n",
       "      <td>...</td>\n",
       "      <td>...</td>\n",
       "      <td>...</td>\n",
       "      <td>...</td>\n",
       "      <td>...</td>\n",
       "      <td>...</td>\n",
       "      <td>...</td>\n",
       "      <td>...</td>\n",
       "      <td>...</td>\n",
       "      <td>...</td>\n",
       "      <td>...</td>\n",
       "      <td>...</td>\n",
       "      <td>...</td>\n",
       "      <td>...</td>\n",
       "      <td>...</td>\n",
       "      <td>...</td>\n",
       "      <td>...</td>\n",
       "    </tr>\n",
       "    <tr>\n",
       "      <th>995</th>\n",
       "      <td>44</td>\n",
       "      <td>1</td>\n",
       "      <td>6</td>\n",
       "      <td>7</td>\n",
       "      <td>7</td>\n",
       "      <td>7</td>\n",
       "      <td>7</td>\n",
       "      <td>6</td>\n",
       "      <td>7</td>\n",
       "      <td>7</td>\n",
       "      <td>7</td>\n",
       "      <td>8</td>\n",
       "      <td>7</td>\n",
       "      <td>7</td>\n",
       "      <td>5</td>\n",
       "      <td>3</td>\n",
       "      <td>2</td>\n",
       "      <td>7</td>\n",
       "      <td>8</td>\n",
       "      <td>2</td>\n",
       "    </tr>\n",
       "    <tr>\n",
       "      <th>996</th>\n",
       "      <td>37</td>\n",
       "      <td>2</td>\n",
       "      <td>6</td>\n",
       "      <td>8</td>\n",
       "      <td>7</td>\n",
       "      <td>7</td>\n",
       "      <td>7</td>\n",
       "      <td>6</td>\n",
       "      <td>7</td>\n",
       "      <td>7</td>\n",
       "      <td>7</td>\n",
       "      <td>8</td>\n",
       "      <td>7</td>\n",
       "      <td>7</td>\n",
       "      <td>9</td>\n",
       "      <td>6</td>\n",
       "      <td>5</td>\n",
       "      <td>7</td>\n",
       "      <td>2</td>\n",
       "      <td>4</td>\n",
       "    </tr>\n",
       "    <tr>\n",
       "      <th>997</th>\n",
       "      <td>25</td>\n",
       "      <td>2</td>\n",
       "      <td>4</td>\n",
       "      <td>5</td>\n",
       "      <td>6</td>\n",
       "      <td>5</td>\n",
       "      <td>5</td>\n",
       "      <td>4</td>\n",
       "      <td>6</td>\n",
       "      <td>7</td>\n",
       "      <td>2</td>\n",
       "      <td>3</td>\n",
       "      <td>4</td>\n",
       "      <td>8</td>\n",
       "      <td>8</td>\n",
       "      <td>7</td>\n",
       "      <td>9</td>\n",
       "      <td>2</td>\n",
       "      <td>1</td>\n",
       "      <td>4</td>\n",
       "    </tr>\n",
       "    <tr>\n",
       "      <th>998</th>\n",
       "      <td>18</td>\n",
       "      <td>2</td>\n",
       "      <td>6</td>\n",
       "      <td>8</td>\n",
       "      <td>7</td>\n",
       "      <td>7</td>\n",
       "      <td>7</td>\n",
       "      <td>6</td>\n",
       "      <td>7</td>\n",
       "      <td>7</td>\n",
       "      <td>8</td>\n",
       "      <td>7</td>\n",
       "      <td>7</td>\n",
       "      <td>9</td>\n",
       "      <td>3</td>\n",
       "      <td>2</td>\n",
       "      <td>4</td>\n",
       "      <td>1</td>\n",
       "      <td>4</td>\n",
       "      <td>2</td>\n",
       "    </tr>\n",
       "    <tr>\n",
       "      <th>999</th>\n",
       "      <td>47</td>\n",
       "      <td>1</td>\n",
       "      <td>6</td>\n",
       "      <td>5</td>\n",
       "      <td>6</td>\n",
       "      <td>5</td>\n",
       "      <td>5</td>\n",
       "      <td>4</td>\n",
       "      <td>6</td>\n",
       "      <td>7</td>\n",
       "      <td>2</td>\n",
       "      <td>3</td>\n",
       "      <td>4</td>\n",
       "      <td>8</td>\n",
       "      <td>8</td>\n",
       "      <td>7</td>\n",
       "      <td>9</td>\n",
       "      <td>2</td>\n",
       "      <td>1</td>\n",
       "      <td>4</td>\n",
       "    </tr>\n",
       "  </tbody>\n",
       "</table>\n",
       "<p>1000 rows × 20 columns</p>\n",
       "</div>"
      ],
      "text/plain": [
       "     Age  Gender  Air Pollution  Alcohol use  Dust Allergy  \\\n",
       "0     33       1              2            4             5   \n",
       "1     17       1              3            1             5   \n",
       "2     35       1              4            5             6   \n",
       "3     37       1              7            7             7   \n",
       "4     46       1              6            8             7   \n",
       "..   ...     ...            ...          ...           ...   \n",
       "995   44       1              6            7             7   \n",
       "996   37       2              6            8             7   \n",
       "997   25       2              4            5             6   \n",
       "998   18       2              6            8             7   \n",
       "999   47       1              6            5             6   \n",
       "\n",
       "     OccuPational Hazards  Genetic Risk  chronic Lung Disease  Balanced Diet  \\\n",
       "0                       4             3                     2              2   \n",
       "1                       3             4                     2              2   \n",
       "2                       5             5                     4              6   \n",
       "3                       7             6                     7              7   \n",
       "4                       7             7                     6              7   \n",
       "..                    ...           ...                   ...            ...   \n",
       "995                     7             7                     6              7   \n",
       "996                     7             7                     6              7   \n",
       "997                     5             5                     4              6   \n",
       "998                     7             7                     6              7   \n",
       "999                     5             5                     4              6   \n",
       "\n",
       "     Obesity  Smoking  Passive Smoker  Chest Pain  Coughing of Blood  Fatigue  \\\n",
       "0          4        3               2           2                  4        3   \n",
       "1          2        2               4           2                  3        1   \n",
       "2          7        2               3           4                  8        8   \n",
       "3          7        7               7           7                  8        4   \n",
       "4          7        8               7           7                  9        3   \n",
       "..       ...      ...             ...         ...                ...      ...   \n",
       "995        7        7               8           7                  7        5   \n",
       "996        7        7               8           7                  7        9   \n",
       "997        7        2               3           4                  8        8   \n",
       "998        7        8               7           7                  9        3   \n",
       "999        7        2               3           4                  8        8   \n",
       "\n",
       "     Weight Loss  Shortness of Breath  Wheezing  Swallowing Difficulty  \\\n",
       "0              4                    2         2                      3   \n",
       "1              3                    7         8                      6   \n",
       "2              7                    9         2                      1   \n",
       "3              2                    3         1                      4   \n",
       "4              2                    4         1                      4   \n",
       "..           ...                  ...       ...                    ...   \n",
       "995            3                    2         7                      8   \n",
       "996            6                    5         7                      2   \n",
       "997            7                    9         2                      1   \n",
       "998            2                    4         1                      4   \n",
       "999            7                    9         2                      1   \n",
       "\n",
       "     Clubbing of Finger Nails  \n",
       "0                           1  \n",
       "1                           2  \n",
       "2                           4  \n",
       "3                           5  \n",
       "4                           2  \n",
       "..                        ...  \n",
       "995                         2  \n",
       "996                         4  \n",
       "997                         4  \n",
       "998                         2  \n",
       "999                         4  \n",
       "\n",
       "[1000 rows x 20 columns]"
      ]
     },
     "execution_count": 5,
     "metadata": {},
     "output_type": "execute_result"
    }
   ],
   "source": [
    "y = predictor_df.Level.values\n",
    "x_data = predictor_df.drop(['Patient Id', 'Level'], axis = 1)\n",
    "x_data"
   ]
  },
  {
   "cell_type": "code",
   "execution_count": 6,
   "id": "aa8496c2",
   "metadata": {},
   "outputs": [
    {
     "data": {
      "text/html": [
       "<div>\n",
       "<style scoped>\n",
       "    .dataframe tbody tr th:only-of-type {\n",
       "        vertical-align: middle;\n",
       "    }\n",
       "\n",
       "    .dataframe tbody tr th {\n",
       "        vertical-align: top;\n",
       "    }\n",
       "\n",
       "    .dataframe thead th {\n",
       "        text-align: right;\n",
       "    }\n",
       "</style>\n",
       "<table border=\"1\" class=\"dataframe\">\n",
       "  <thead>\n",
       "    <tr style=\"text-align: right;\">\n",
       "      <th></th>\n",
       "      <th>Age</th>\n",
       "      <th>Gender</th>\n",
       "      <th>Air Pollution</th>\n",
       "      <th>Alcohol use</th>\n",
       "      <th>Dust Allergy</th>\n",
       "      <th>OccuPational Hazards</th>\n",
       "      <th>Genetic Risk</th>\n",
       "      <th>chronic Lung Disease</th>\n",
       "      <th>Balanced Diet</th>\n",
       "      <th>Obesity</th>\n",
       "      <th>Smoking</th>\n",
       "      <th>Passive Smoker</th>\n",
       "      <th>Chest Pain</th>\n",
       "      <th>Coughing of Blood</th>\n",
       "      <th>Fatigue</th>\n",
       "      <th>Weight Loss</th>\n",
       "      <th>Shortness of Breath</th>\n",
       "      <th>Wheezing</th>\n",
       "      <th>Swallowing Difficulty</th>\n",
       "      <th>Clubbing of Finger Nails</th>\n",
       "    </tr>\n",
       "  </thead>\n",
       "  <tbody>\n",
       "    <tr>\n",
       "      <th>0</th>\n",
       "      <td>0.322034</td>\n",
       "      <td>0.0</td>\n",
       "      <td>0.142857</td>\n",
       "      <td>0.428571</td>\n",
       "      <td>0.571429</td>\n",
       "      <td>0.428571</td>\n",
       "      <td>0.333333</td>\n",
       "      <td>0.166667</td>\n",
       "      <td>0.166667</td>\n",
       "      <td>0.500000</td>\n",
       "      <td>0.285714</td>\n",
       "      <td>0.142857</td>\n",
       "      <td>0.125</td>\n",
       "      <td>0.375</td>\n",
       "      <td>0.250</td>\n",
       "      <td>0.428571</td>\n",
       "      <td>0.125</td>\n",
       "      <td>0.142857</td>\n",
       "      <td>0.285714</td>\n",
       "      <td>0.000</td>\n",
       "    </tr>\n",
       "    <tr>\n",
       "      <th>1</th>\n",
       "      <td>0.050847</td>\n",
       "      <td>0.0</td>\n",
       "      <td>0.285714</td>\n",
       "      <td>0.000000</td>\n",
       "      <td>0.571429</td>\n",
       "      <td>0.285714</td>\n",
       "      <td>0.500000</td>\n",
       "      <td>0.166667</td>\n",
       "      <td>0.166667</td>\n",
       "      <td>0.166667</td>\n",
       "      <td>0.142857</td>\n",
       "      <td>0.428571</td>\n",
       "      <td>0.125</td>\n",
       "      <td>0.250</td>\n",
       "      <td>0.000</td>\n",
       "      <td>0.285714</td>\n",
       "      <td>0.750</td>\n",
       "      <td>1.000000</td>\n",
       "      <td>0.714286</td>\n",
       "      <td>0.125</td>\n",
       "    </tr>\n",
       "    <tr>\n",
       "      <th>2</th>\n",
       "      <td>0.355932</td>\n",
       "      <td>0.0</td>\n",
       "      <td>0.428571</td>\n",
       "      <td>0.571429</td>\n",
       "      <td>0.714286</td>\n",
       "      <td>0.571429</td>\n",
       "      <td>0.666667</td>\n",
       "      <td>0.500000</td>\n",
       "      <td>0.833333</td>\n",
       "      <td>1.000000</td>\n",
       "      <td>0.142857</td>\n",
       "      <td>0.285714</td>\n",
       "      <td>0.375</td>\n",
       "      <td>0.875</td>\n",
       "      <td>0.875</td>\n",
       "      <td>0.857143</td>\n",
       "      <td>1.000</td>\n",
       "      <td>0.142857</td>\n",
       "      <td>0.000000</td>\n",
       "      <td>0.375</td>\n",
       "    </tr>\n",
       "    <tr>\n",
       "      <th>3</th>\n",
       "      <td>0.389831</td>\n",
       "      <td>0.0</td>\n",
       "      <td>0.857143</td>\n",
       "      <td>0.857143</td>\n",
       "      <td>0.857143</td>\n",
       "      <td>0.857143</td>\n",
       "      <td>0.833333</td>\n",
       "      <td>1.000000</td>\n",
       "      <td>1.000000</td>\n",
       "      <td>1.000000</td>\n",
       "      <td>0.857143</td>\n",
       "      <td>0.857143</td>\n",
       "      <td>0.750</td>\n",
       "      <td>0.875</td>\n",
       "      <td>0.375</td>\n",
       "      <td>0.142857</td>\n",
       "      <td>0.250</td>\n",
       "      <td>0.000000</td>\n",
       "      <td>0.428571</td>\n",
       "      <td>0.500</td>\n",
       "    </tr>\n",
       "    <tr>\n",
       "      <th>4</th>\n",
       "      <td>0.542373</td>\n",
       "      <td>0.0</td>\n",
       "      <td>0.714286</td>\n",
       "      <td>1.000000</td>\n",
       "      <td>0.857143</td>\n",
       "      <td>0.857143</td>\n",
       "      <td>1.000000</td>\n",
       "      <td>0.833333</td>\n",
       "      <td>1.000000</td>\n",
       "      <td>1.000000</td>\n",
       "      <td>1.000000</td>\n",
       "      <td>0.857143</td>\n",
       "      <td>0.750</td>\n",
       "      <td>1.000</td>\n",
       "      <td>0.250</td>\n",
       "      <td>0.142857</td>\n",
       "      <td>0.375</td>\n",
       "      <td>0.000000</td>\n",
       "      <td>0.428571</td>\n",
       "      <td>0.125</td>\n",
       "    </tr>\n",
       "    <tr>\n",
       "      <th>...</th>\n",
       "      <td>...</td>\n",
       "      <td>...</td>\n",
       "      <td>...</td>\n",
       "      <td>...</td>\n",
       "      <td>...</td>\n",
       "      <td>...</td>\n",
       "      <td>...</td>\n",
       "      <td>...</td>\n",
       "      <td>...</td>\n",
       "      <td>...</td>\n",
       "      <td>...</td>\n",
       "      <td>...</td>\n",
       "      <td>...</td>\n",
       "      <td>...</td>\n",
       "      <td>...</td>\n",
       "      <td>...</td>\n",
       "      <td>...</td>\n",
       "      <td>...</td>\n",
       "      <td>...</td>\n",
       "      <td>...</td>\n",
       "    </tr>\n",
       "    <tr>\n",
       "      <th>995</th>\n",
       "      <td>0.508475</td>\n",
       "      <td>0.0</td>\n",
       "      <td>0.714286</td>\n",
       "      <td>0.857143</td>\n",
       "      <td>0.857143</td>\n",
       "      <td>0.857143</td>\n",
       "      <td>1.000000</td>\n",
       "      <td>0.833333</td>\n",
       "      <td>1.000000</td>\n",
       "      <td>1.000000</td>\n",
       "      <td>0.857143</td>\n",
       "      <td>1.000000</td>\n",
       "      <td>0.750</td>\n",
       "      <td>0.750</td>\n",
       "      <td>0.500</td>\n",
       "      <td>0.285714</td>\n",
       "      <td>0.125</td>\n",
       "      <td>0.857143</td>\n",
       "      <td>1.000000</td>\n",
       "      <td>0.125</td>\n",
       "    </tr>\n",
       "    <tr>\n",
       "      <th>996</th>\n",
       "      <td>0.389831</td>\n",
       "      <td>1.0</td>\n",
       "      <td>0.714286</td>\n",
       "      <td>1.000000</td>\n",
       "      <td>0.857143</td>\n",
       "      <td>0.857143</td>\n",
       "      <td>1.000000</td>\n",
       "      <td>0.833333</td>\n",
       "      <td>1.000000</td>\n",
       "      <td>1.000000</td>\n",
       "      <td>0.857143</td>\n",
       "      <td>1.000000</td>\n",
       "      <td>0.750</td>\n",
       "      <td>0.750</td>\n",
       "      <td>1.000</td>\n",
       "      <td>0.714286</td>\n",
       "      <td>0.500</td>\n",
       "      <td>0.857143</td>\n",
       "      <td>0.142857</td>\n",
       "      <td>0.375</td>\n",
       "    </tr>\n",
       "    <tr>\n",
       "      <th>997</th>\n",
       "      <td>0.186441</td>\n",
       "      <td>1.0</td>\n",
       "      <td>0.428571</td>\n",
       "      <td>0.571429</td>\n",
       "      <td>0.714286</td>\n",
       "      <td>0.571429</td>\n",
       "      <td>0.666667</td>\n",
       "      <td>0.500000</td>\n",
       "      <td>0.833333</td>\n",
       "      <td>1.000000</td>\n",
       "      <td>0.142857</td>\n",
       "      <td>0.285714</td>\n",
       "      <td>0.375</td>\n",
       "      <td>0.875</td>\n",
       "      <td>0.875</td>\n",
       "      <td>0.857143</td>\n",
       "      <td>1.000</td>\n",
       "      <td>0.142857</td>\n",
       "      <td>0.000000</td>\n",
       "      <td>0.375</td>\n",
       "    </tr>\n",
       "    <tr>\n",
       "      <th>998</th>\n",
       "      <td>0.067797</td>\n",
       "      <td>1.0</td>\n",
       "      <td>0.714286</td>\n",
       "      <td>1.000000</td>\n",
       "      <td>0.857143</td>\n",
       "      <td>0.857143</td>\n",
       "      <td>1.000000</td>\n",
       "      <td>0.833333</td>\n",
       "      <td>1.000000</td>\n",
       "      <td>1.000000</td>\n",
       "      <td>1.000000</td>\n",
       "      <td>0.857143</td>\n",
       "      <td>0.750</td>\n",
       "      <td>1.000</td>\n",
       "      <td>0.250</td>\n",
       "      <td>0.142857</td>\n",
       "      <td>0.375</td>\n",
       "      <td>0.000000</td>\n",
       "      <td>0.428571</td>\n",
       "      <td>0.125</td>\n",
       "    </tr>\n",
       "    <tr>\n",
       "      <th>999</th>\n",
       "      <td>0.559322</td>\n",
       "      <td>0.0</td>\n",
       "      <td>0.714286</td>\n",
       "      <td>0.571429</td>\n",
       "      <td>0.714286</td>\n",
       "      <td>0.571429</td>\n",
       "      <td>0.666667</td>\n",
       "      <td>0.500000</td>\n",
       "      <td>0.833333</td>\n",
       "      <td>1.000000</td>\n",
       "      <td>0.142857</td>\n",
       "      <td>0.285714</td>\n",
       "      <td>0.375</td>\n",
       "      <td>0.875</td>\n",
       "      <td>0.875</td>\n",
       "      <td>0.857143</td>\n",
       "      <td>1.000</td>\n",
       "      <td>0.142857</td>\n",
       "      <td>0.000000</td>\n",
       "      <td>0.375</td>\n",
       "    </tr>\n",
       "  </tbody>\n",
       "</table>\n",
       "<p>1000 rows × 20 columns</p>\n",
       "</div>"
      ],
      "text/plain": [
       "          Age  Gender  Air Pollution  Alcohol use  Dust Allergy  \\\n",
       "0    0.322034     0.0       0.142857     0.428571      0.571429   \n",
       "1    0.050847     0.0       0.285714     0.000000      0.571429   \n",
       "2    0.355932     0.0       0.428571     0.571429      0.714286   \n",
       "3    0.389831     0.0       0.857143     0.857143      0.857143   \n",
       "4    0.542373     0.0       0.714286     1.000000      0.857143   \n",
       "..        ...     ...            ...          ...           ...   \n",
       "995  0.508475     0.0       0.714286     0.857143      0.857143   \n",
       "996  0.389831     1.0       0.714286     1.000000      0.857143   \n",
       "997  0.186441     1.0       0.428571     0.571429      0.714286   \n",
       "998  0.067797     1.0       0.714286     1.000000      0.857143   \n",
       "999  0.559322     0.0       0.714286     0.571429      0.714286   \n",
       "\n",
       "     OccuPational Hazards  Genetic Risk  chronic Lung Disease  Balanced Diet  \\\n",
       "0                0.428571      0.333333              0.166667       0.166667   \n",
       "1                0.285714      0.500000              0.166667       0.166667   \n",
       "2                0.571429      0.666667              0.500000       0.833333   \n",
       "3                0.857143      0.833333              1.000000       1.000000   \n",
       "4                0.857143      1.000000              0.833333       1.000000   \n",
       "..                    ...           ...                   ...            ...   \n",
       "995              0.857143      1.000000              0.833333       1.000000   \n",
       "996              0.857143      1.000000              0.833333       1.000000   \n",
       "997              0.571429      0.666667              0.500000       0.833333   \n",
       "998              0.857143      1.000000              0.833333       1.000000   \n",
       "999              0.571429      0.666667              0.500000       0.833333   \n",
       "\n",
       "      Obesity   Smoking  Passive Smoker  Chest Pain  Coughing of Blood  \\\n",
       "0    0.500000  0.285714        0.142857       0.125              0.375   \n",
       "1    0.166667  0.142857        0.428571       0.125              0.250   \n",
       "2    1.000000  0.142857        0.285714       0.375              0.875   \n",
       "3    1.000000  0.857143        0.857143       0.750              0.875   \n",
       "4    1.000000  1.000000        0.857143       0.750              1.000   \n",
       "..        ...       ...             ...         ...                ...   \n",
       "995  1.000000  0.857143        1.000000       0.750              0.750   \n",
       "996  1.000000  0.857143        1.000000       0.750              0.750   \n",
       "997  1.000000  0.142857        0.285714       0.375              0.875   \n",
       "998  1.000000  1.000000        0.857143       0.750              1.000   \n",
       "999  1.000000  0.142857        0.285714       0.375              0.875   \n",
       "\n",
       "     Fatigue  Weight Loss  Shortness of Breath  Wheezing  \\\n",
       "0      0.250     0.428571                0.125  0.142857   \n",
       "1      0.000     0.285714                0.750  1.000000   \n",
       "2      0.875     0.857143                1.000  0.142857   \n",
       "3      0.375     0.142857                0.250  0.000000   \n",
       "4      0.250     0.142857                0.375  0.000000   \n",
       "..       ...          ...                  ...       ...   \n",
       "995    0.500     0.285714                0.125  0.857143   \n",
       "996    1.000     0.714286                0.500  0.857143   \n",
       "997    0.875     0.857143                1.000  0.142857   \n",
       "998    0.250     0.142857                0.375  0.000000   \n",
       "999    0.875     0.857143                1.000  0.142857   \n",
       "\n",
       "     Swallowing Difficulty  Clubbing of Finger Nails  \n",
       "0                 0.285714                     0.000  \n",
       "1                 0.714286                     0.125  \n",
       "2                 0.000000                     0.375  \n",
       "3                 0.428571                     0.500  \n",
       "4                 0.428571                     0.125  \n",
       "..                     ...                       ...  \n",
       "995               1.000000                     0.125  \n",
       "996               0.142857                     0.375  \n",
       "997               0.000000                     0.375  \n",
       "998               0.428571                     0.125  \n",
       "999               0.000000                     0.375  \n",
       "\n",
       "[1000 rows x 20 columns]"
      ]
     },
     "execution_count": 6,
     "metadata": {},
     "output_type": "execute_result"
    }
   ],
   "source": [
    "###Data Standardization\n",
    "x_min = np.min(x_data, axis=0)\n",
    "x_max = np.max(x_data, axis=0) \n",
    "x = (x_data - x_min)/(x_max- x_min).values\n",
    "x"
   ]
  },
  {
   "cell_type": "code",
   "execution_count": 7,
   "id": "8e1156da",
   "metadata": {},
   "outputs": [
    {
     "name": "stdout",
     "output_type": "stream",
     "text": [
      "x_train size: (750, 20)\n",
      "y_train size: (750,)\n",
      "\n",
      "x_test size: (250, 20)\n",
      "y_test size: (250,)\n"
     ]
    }
   ],
   "source": [
    "### Split Dataset\n",
    "x_train, x_test, y_train, y_test = train_test_split(x, y, test_size=0.25, random_state = 42)\n",
    "\n",
    "print(\"x_train size:\", x_train.shape)\n",
    "print(\"y_train size:\", y_train.shape)\n",
    "print(\"\\nx_test size:\", x_test.shape)\n",
    "print(\"y_test size:\", y_test.shape)"
   ]
  },
  {
   "cell_type": "markdown",
   "id": "87c88ae0",
   "metadata": {},
   "source": [
    "### Setting Up Models"
   ]
  },
  {
   "cell_type": "markdown",
   "id": "784c2898",
   "metadata": {},
   "source": [
    "#### Logistic Regression"
   ]
  },
  {
   "cell_type": "code",
   "execution_count": 8,
   "id": "e2db6904",
   "metadata": {},
   "outputs": [],
   "source": [
    "log_reg = LogisticRegression().fit(x_train, y_train)"
   ]
  },
  {
   "cell_type": "markdown",
   "id": "7fbd506f",
   "metadata": {},
   "source": [
    "#### Naive Bayes"
   ]
  },
  {
   "cell_type": "code",
   "execution_count": 9,
   "id": "0d819cb8",
   "metadata": {},
   "outputs": [],
   "source": [
    "gnb = GaussianNB().fit(x_train, y_train)"
   ]
  },
  {
   "cell_type": "markdown",
   "id": "38298eab",
   "metadata": {},
   "source": [
    "### Using models on dataset"
   ]
  },
  {
   "cell_type": "markdown",
   "id": "22a5e00c",
   "metadata": {},
   "source": [
    "#### Logistic Regression"
   ]
  },
  {
   "cell_type": "code",
   "execution_count": 10,
   "id": "9d95c42b",
   "metadata": {
    "scrolled": true
   },
   "outputs": [
    {
     "data": {
      "text/plain": [
       "0.992"
      ]
     },
     "execution_count": 10,
     "metadata": {},
     "output_type": "execute_result"
    }
   ],
   "source": [
    "log_y_train_pred = log_reg.predict(x_train)\n",
    "accuracy_score(y_train, log_y_train_pred)"
   ]
  },
  {
   "cell_type": "code",
   "execution_count": 11,
   "id": "76060fed",
   "metadata": {},
   "outputs": [
    {
     "name": "stdout",
     "output_type": "stream",
     "text": [
      "              precision    recall  f1-score   support\n",
      "\n",
      "        High       1.00      1.00      1.00       261\n",
      "         Low       1.00      0.97      0.99       237\n",
      "      Medium       0.98      1.00      0.99       252\n",
      "\n",
      "    accuracy                           0.99       750\n",
      "   macro avg       0.99      0.99      0.99       750\n",
      "weighted avg       0.99      0.99      0.99       750\n",
      "\n"
     ]
    }
   ],
   "source": [
    "print(classification_report(y_train, log_y_train_pred, labels=log_reg.classes_))"
   ]
  },
  {
   "cell_type": "code",
   "execution_count": 12,
   "id": "6c6ea0b1",
   "metadata": {},
   "outputs": [
    {
     "data": {
      "image/png": "[encoded data removed]",
      "text/plain": [
       "<Figure size 432x288 with 2 Axes>"
      ]
     },
     "metadata": {
      "needs_background": "light"
     },
     "output_type": "display_data"
    }
   ],
   "source": [
    "log_train_matrix = confusion_matrix(y_train, log_y_train_pred)\n",
    "disp = ConfusionMatrixDisplay(confusion_matrix=log_train_matrix, display_labels=log_reg.classes_)\n",
    "disp.plot()\n",
    "plt.show()"
   ]
  },
  {
   "cell_type": "code",
   "execution_count": 13,
   "id": "1b4f889f",
   "metadata": {},
   "outputs": [
    {
     "data": {
      "text/plain": [
       "0.984"
      ]
     },
     "execution_count": 13,
     "metadata": {},
     "output_type": "execute_result"
    }
   ],
   "source": [
    "log_y_test_pred = log_reg.predict(x_test)\n",
    "accuracy_score(y_test, log_y_test_pred)"
   ]
  },
  {
   "cell_type": "code",
   "execution_count": 14,
   "id": "3b7e7788",
   "metadata": {},
   "outputs": [
    {
     "name": "stdout",
     "output_type": "stream",
     "text": [
      "              precision    recall  f1-score   support\n",
      "\n",
      "        High       1.00      1.00      1.00       104\n",
      "         Low       1.00      0.94      0.97        66\n",
      "      Medium       0.95      1.00      0.98        80\n",
      "\n",
      "    accuracy                           0.98       250\n",
      "   macro avg       0.98      0.98      0.98       250\n",
      "weighted avg       0.98      0.98      0.98       250\n",
      "\n"
     ]
    }
   ],
   "source": [
    "print(classification_report(y_test, log_y_test_pred, labels=log_reg.classes_))"
   ]
  },
  {
   "cell_type": "code",
   "execution_count": 15,
   "id": "dcbfc9cd",
   "metadata": {},
   "outputs": [
    {
     "data": {
      "image/png": "[encoded data removed]",
      "text/plain": [
       "<Figure size 432x288 with 2 Axes>"
      ]
     },
     "metadata": {
      "needs_background": "light"
     },
     "output_type": "display_data"
    }
   ],
   "source": [
    "log_test_matrix = confusion_matrix(y_test, log_y_test_pred)\n",
    "disp = ConfusionMatrixDisplay(confusion_matrix=log_test_matrix, display_labels=log_reg.classes_)\n",
    "disp.plot()\n",
    "plt.show()"
   ]
  },
  {
   "cell_type": "markdown",
   "id": "7926c27b",
   "metadata": {},
   "source": [
    "<p>In the training set, the Logistic Regression model had an accuracy of 99.2% with the macro average of precision, recall, and f1-score all being 99%. The confusion matrix for the training set also showed us that the model had correctly identified all High and Low risk of lung cancer and only mislabeling 6 Medium risk of lung cancer as low risk. Meanwhile in the test set, the model had an accuracy of 98.4% with macro average of precision, recall, and f1-score all being 98%. Its confusion matrix shows us the same as the previous confusion matrix where it correctly identified both High and Low risk of lung cancer and only mislabeling 4 Medium risk of lung cancer as low risk. </p>\n",
    "</p>This tells us that this model is highly accurate in its prediction and is very reliable to use as the model to identify a patient's likelihood of lung cancer. </p>"
   ]
  },
  {
   "cell_type": "markdown",
   "id": "b12711f6",
   "metadata": {},
   "source": [
    "#### Naive Bayes"
   ]
  },
  {
   "cell_type": "code",
   "execution_count": 16,
   "id": "78659061",
   "metadata": {},
   "outputs": [
    {
     "data": {
      "text/plain": [
       "0.8493333333333334"
      ]
     },
     "execution_count": 16,
     "metadata": {},
     "output_type": "execute_result"
    }
   ],
   "source": [
    "gnb_y_train_pred = gnb.predict(x_train)\n",
    "accuracy_score(y_train, gnb_y_train_pred)"
   ]
  },
  {
   "cell_type": "code",
   "execution_count": 17,
   "id": "3a5f0da1",
   "metadata": {},
   "outputs": [
    {
     "name": "stdout",
     "output_type": "stream",
     "text": [
      "              precision    recall  f1-score   support\n",
      "\n",
      "        High       0.82      0.95      0.88       261\n",
      "         Low       0.88      0.92      0.89       237\n",
      "      Medium       0.86      0.69      0.76       252\n",
      "\n",
      "    accuracy                           0.85       750\n",
      "   macro avg       0.85      0.85      0.85       750\n",
      "weighted avg       0.85      0.85      0.85       750\n",
      "\n"
     ]
    }
   ],
   "source": [
    "print(classification_report(y_train, gnb_y_train_pred, labels=gnb.classes_))"
   ]
  },
  {
   "cell_type": "code",
   "execution_count": 18,
   "id": "136f0f8b",
   "metadata": {},
   "outputs": [
    {
     "data": {
      "image/png": "[encoded data removed]",
      "text/plain": [
       "<Figure size 432x288 with 2 Axes>"
      ]
     },
     "metadata": {
      "needs_background": "light"
     },
     "output_type": "display_data"
    }
   ],
   "source": [
    "gnb_train_matrix = confusion_matrix(y_train, gnb_y_train_pred)\n",
    "disp = ConfusionMatrixDisplay(confusion_matrix=gnb_train_matrix, display_labels=gnb.classes_)\n",
    "disp.plot()\n",
    "plt.show()"
   ]
  },
  {
   "cell_type": "code",
   "execution_count": 19,
   "id": "38744a0d",
   "metadata": {
    "scrolled": false
   },
   "outputs": [
    {
     "data": {
      "text/plain": [
       "0.848"
      ]
     },
     "execution_count": 19,
     "metadata": {},
     "output_type": "execute_result"
    }
   ],
   "source": [
    "gnb_y_test_pred = gnb.predict(x_test)\n",
    "accuracy_score(y_test, gnb_y_test_pred)"
   ]
  },
  {
   "cell_type": "code",
   "execution_count": 20,
   "id": "8c619542",
   "metadata": {},
   "outputs": [
    {
     "name": "stdout",
     "output_type": "stream",
     "text": [
      "              precision    recall  f1-score   support\n",
      "\n",
      "        High       0.86      0.94      0.90       104\n",
      "         Low       0.85      0.85      0.85        66\n",
      "      Medium       0.83      0.72      0.77        80\n",
      "\n",
      "    accuracy                           0.85       250\n",
      "   macro avg       0.85      0.84      0.84       250\n",
      "weighted avg       0.85      0.85      0.85       250\n",
      "\n"
     ]
    }
   ],
   "source": [
    "print(classification_report(y_test, gnb_y_test_pred, labels=gnb.classes_))"
   ]
  },
  {
   "cell_type": "code",
   "execution_count": 21,
   "id": "7ac7e399",
   "metadata": {
    "scrolled": true
   },
   "outputs": [
    {
     "data": {
      "image/png": "[encoded data removed]",
      "text/plain": [
       "<Figure size 432x288 with 2 Axes>"
      ]
     },
     "metadata": {
      "needs_background": "light"
     },
     "output_type": "display_data"
    }
   ],
   "source": [
    "gnb_test_matrix = confusion_matrix(y_test, gnb_y_test_pred)\n",
    "disp = ConfusionMatrixDisplay(confusion_matrix=gnb_test_matrix, display_labels=gnb.classes_)\n",
    "disp.plot()\n",
    "plt.show()"
   ]
  },
  {
   "cell_type": "markdown",
   "id": "2639958e",
   "metadata": {},
   "source": [
    "<p>In the training set, the Naive Bayes model had 84.93% accuracy with macro average precision, recall, f1-score of 85%. The confusion matrix in the training set showed that the majority of the results laid on the hypotenuse which showed that it was fairly accurate in its predictions. The highest error it had in its prediction was predicting 48 Medium Risk being labeled as High Risk. </p>\n",
    "<p> Meanwhile in the testing set, it had an accuracy of 84.8% with macro average precision being 85% and both recall and f1-score being 84%. The confusion matrix also showed that it had correctly identified the majority of each class but had some misidentification in all classes where the highest mistake was 12 Medium risk being labeled as High by the model. </p>\n",
    "<p>This shows that the Naive Bayes model is fairly accurate and is also a good model to predict the likelihood of lung cancer in a patient.</p>"
   ]
  },
  {
   "cell_type": "markdown",
   "id": "86eeb094",
   "metadata": {},
   "source": [
    "#### Comparing Logistic Regression and Naive Bayes"
   ]
  },
  {
   "cell_type": "code",
   "execution_count": 22,
   "id": "ac7e1a71",
   "metadata": {},
   "outputs": [],
   "source": [
    "report_train_log = classification_report(y_train, log_y_train_pred, labels=log_reg.classes_, output_dict=True)\n",
    "macro_precision_train_log = report_train_log['macro avg']['precision']\n",
    "macro_recall_train_log = report_train_log['macro avg']['recall']\n",
    "macro_f1_train_log = report_train_log['macro avg']['f1-score']\n",
    "\n",
    "report_train_gnb = classification_report(y_train, gnb_y_train_pred, labels=gnb.classes_, output_dict=True)\n",
    "macro_precision_train_gnb = report_train_gnb['macro avg']['precision']\n",
    "macro_recall_train_gnb = report_train_gnb['macro avg']['recall']\n",
    "macro_f1_train_gnb = report_train_gnb['macro avg']['f1-score']\n",
    "\n",
    "report_test_log = classification_report(y_test, log_y_test_pred, labels=log_reg.classes_, output_dict=True)\n",
    "macro_precision_test_log = report_test_log['macro avg']['precision']\n",
    "macro_recall_test_log = report_test_log['macro avg']['recall']\n",
    "macro_f1_test_log = report_test_log['macro avg']['f1-score']\n",
    "\n",
    "report_test_gnb = classification_report(y_test, gnb_y_test_pred, labels=gnb.classes_, output_dict=True)\n",
    "macro_precision_test_gnb = report_test_gnb['macro avg']['precision']\n",
    "macro_recall_test_gnb = report_test_gnb['macro avg']['recall']\n",
    "macro_f1_test_gnb = report_test_gnb['macro avg']['f1-score']"
   ]
  },
  {
   "cell_type": "markdown",
   "id": "2026e6fb",
   "metadata": {},
   "source": [
    "* Train Set"
   ]
  },
  {
   "cell_type": "code",
   "execution_count": 23,
   "id": "d3320493",
   "metadata": {},
   "outputs": [
    {
     "data": {
      "text/plain": [
       "<BarContainer object of 2 artists>"
      ]
     },
     "execution_count": 23,
     "metadata": {},
     "output_type": "execute_result"
    },
    {
     "data": {
      "image/png": "[encoded data removed]",
      "text/plain": [
       "<Figure size 432x288 with 1 Axes>"
      ]
     },
     "metadata": {
      "needs_background": "light"
     },
     "output_type": "display_data"
    }
   ],
   "source": [
    "data1 = {'Logistic Regression':accuracy_score(y_train, log_y_train_pred), 'Naive Bayes':accuracy_score(y_train, gnb_y_train_pred)}\n",
    "ml_algo1 = list(data1.keys())\n",
    "accuracy_train = list(data1.values())\n",
    "plt.title('Comparison Between the Accuracy of Logistic Regression and Naive Bayes in the Train Set')\n",
    "plt.ylabel('Accuracy')\n",
    "plt.bar(ml_algo1, accuracy_train, color = 'maroon', width = 0.4)"
   ]
  },
  {
   "cell_type": "code",
   "execution_count": 24,
   "id": "d7369cb7",
   "metadata": {},
   "outputs": [
    {
     "data": {
      "text/plain": [
       "<BarContainer object of 2 artists>"
      ]
     },
     "execution_count": 24,
     "metadata": {},
     "output_type": "execute_result"
    },
    {
     "data": {
      "image/png": "[encoded data removed]",
      "text/plain": [
       "<Figure size 432x288 with 1 Axes>"
      ]
     },
     "metadata": {
      "needs_background": "light"
     },
     "output_type": "display_data"
    }
   ],
   "source": [
    "data2 = {'Logistic Regression':macro_precision_train_log, 'Naive Bayes':macro_precision_train_gnb}\n",
    "ml_algo2 = list(data2.keys())\n",
    "precision_train = list(data2.values())\n",
    "plt.title('Comparison Between the Precision of Logistic Regression and Naive Bayes in the Train Set')\n",
    "plt.ylabel('Precision')\n",
    "plt.bar(ml_algo2, precision_train, color = 'green', width = 0.4)"
   ]
  },
  {
   "cell_type": "code",
   "execution_count": 25,
   "id": "25921a53",
   "metadata": {},
   "outputs": [
    {
     "data": {
      "text/plain": [
       "<BarContainer object of 2 artists>"
      ]
     },
     "execution_count": 25,
     "metadata": {},
     "output_type": "execute_result"
    },
    {
     "data": {
      "image/png": "[encoded data removed]",
      "text/plain": [
       "<Figure size 432x288 with 1 Axes>"
      ]
     },
     "metadata": {
      "needs_background": "light"
     },
     "output_type": "display_data"
    }
   ],
   "source": [
    "data3 = {'Logistic Regression':macro_recall_train_log, 'Naive Bayes':macro_recall_train_gnb}\n",
    "ml_algo3 = list(data3.keys())\n",
    "recall_train = list(data3.values())\n",
    "plt.title('Comparison Between the Recall of Logistic Regression and Naive Bayes in the Train Set')\n",
    "plt.ylabel('Recall')\n",
    "plt.bar(ml_algo3, recall_train, color = 'orange', width = 0.4)"
   ]
  },
  {
   "cell_type": "code",
   "execution_count": 26,
   "id": "fe34eb93",
   "metadata": {},
   "outputs": [
    {
     "data": {
      "text/plain": [
       "<BarContainer object of 2 artists>"
      ]
     },
     "execution_count": 26,
     "metadata": {},
     "output_type": "execute_result"
    },
    {
     "data": {
      "image/png": "[encoded data removed]",
      "text/plain": [
       "<Figure size 432x288 with 1 Axes>"
      ]
     },
     "metadata": {
      "needs_background": "light"
     },
     "output_type": "display_data"
    }
   ],
   "source": [
    "data4 = {'Logistic Regression':macro_f1_train_log, 'Naive Bayes':macro_f1_train_gnb}\n",
    "ml_algo4 = list(data4.keys())\n",
    "f1_train = list(data4.values())\n",
    "plt.title('Comparison Between the F1-score of Logistic Regression and Naive Bayes in the Train Set')\n",
    "plt.ylabel('F1-score')\n",
    "plt.bar(ml_algo4, f1_train, color = 'blue', width = 0.4)"
   ]
  },
  {
   "cell_type": "markdown",
   "id": "285755e1",
   "metadata": {},
   "source": [
    "* Test Set"
   ]
  },
  {
   "cell_type": "code",
   "execution_count": 27,
   "id": "2d121c2a",
   "metadata": {},
   "outputs": [
    {
     "data": {
      "text/plain": [
       "<BarContainer object of 2 artists>"
      ]
     },
     "execution_count": 27,
     "metadata": {},
     "output_type": "execute_result"
    },
    {
     "data": {
      "image/png": "[encoded data removed]",
      "text/plain": [
       "<Figure size 432x288 with 1 Axes>"
      ]
     },
     "metadata": {
      "needs_background": "light"
     },
     "output_type": "display_data"
    }
   ],
   "source": [
    "data5 = {'Logistic Regression':accuracy_score(y_test, log_y_test_pred), 'Naive Bayes':accuracy_score(y_test, gnb_y_test_pred)}\n",
    "ml_algo5 = list(data5.keys())\n",
    "accuracy_test = list(data5.values())\n",
    "plt.title('Comparison Between the Accuracy of Logistic Regression and Naive Bayes in the Test Set')\n",
    "plt.ylabel('Accuracy')\n",
    "plt.bar(ml_algo5, accuracy_test, color = 'maroon', width = 0.4)"
   ]
  },
  {
   "cell_type": "code",
   "execution_count": 28,
   "id": "2a98fbe9",
   "metadata": {},
   "outputs": [
    {
     "data": {
      "text/plain": [
       "<BarContainer object of 2 artists>"
      ]
     },
     "execution_count": 28,
     "metadata": {},
     "output_type": "execute_result"
    },
    {
     "data": {
      "image/png": "[encoded data removed]",
      "text/plain": [
       "<Figure size 432x288 with 1 Axes>"
      ]
     },
     "metadata": {
      "needs_background": "light"
     },
     "output_type": "display_data"
    }
   ],
   "source": [
    "data6 = {'Logistic Regression':macro_precision_test_log, 'Naive Bayes':macro_precision_test_gnb}\n",
    "ml_algo6 = list(data6.keys())\n",
    "precision_test = list(data6.values())\n",
    "plt.title('Comparison Between the Precision of Logistic Regression and Naive Bayes in the Test Set')\n",
    "plt.ylabel('Precision')\n",
    "plt.bar(ml_algo6, precision_test, color = 'green', width = 0.4)"
   ]
  },
  {
   "cell_type": "code",
   "execution_count": 29,
   "id": "fd27f349",
   "metadata": {},
   "outputs": [
    {
     "data": {
      "text/plain": [
       "<BarContainer object of 2 artists>"
      ]
     },
     "execution_count": 29,
     "metadata": {},
     "output_type": "execute_result"
    },
    {
     "data": {
      "image/png": "[encoded data removed]",
      "text/plain": [
       "<Figure size 432x288 with 1 Axes>"
      ]
     },
     "metadata": {
      "needs_background": "light"
     },
     "output_type": "display_data"
    }
   ],
   "source": [
    "data7 = {'Logistic Regression': macro_recall_test_log, 'Naive Bayes':macro_recall_test_gnb}\n",
    "ml_algo7 = list(data7.keys())\n",
    "recall_test = list(data7.values())\n",
    "plt.title('Comparison Between the Recall of Logistic Regression and Naive Bayes in the Test Set')\n",
    "plt.ylabel('Recall')\n",
    "plt.bar(ml_algo7, recall_test, color = 'orange', width = 0.4)"
   ]
  },
  {
   "cell_type": "code",
   "execution_count": 30,
   "id": "39c6af28",
   "metadata": {},
   "outputs": [
    {
     "data": {
      "text/plain": [
       "<BarContainer object of 2 artists>"
      ]
     },
     "execution_count": 30,
     "metadata": {},
     "output_type": "execute_result"
    },
    {
     "data": {
      "image/png": "[encoded data removed]",
      "text/plain": [
       "<Figure size 432x288 with 1 Axes>"
      ]
     },
     "metadata": {
      "needs_background": "light"
     },
     "output_type": "display_data"
    }
   ],
   "source": [
    "data8 = {'Logistic Regression':macro_f1_test_log, 'Naive Bayes':macro_f1_test_gnb}\n",
    "ml_algo8 = list(data8.keys())\n",
    "f1_test = list(data8.values())\n",
    "plt.title('Comparison Between the F1-score of Logistic Regression and Naive Bayes in the Test Set')\n",
    "plt.ylabel('F1-score')\n",
    "plt.bar(ml_algo8, f1_test, color = 'blue', width = 0.4)"
   ]
  },
  {
   "cell_type": "markdown",
   "id": "6450d89a",
   "metadata": {},
   "source": [
    "### Which is better Logistic Regression or Naive Bayes for predicting lung cancer likelihood?"
   ]
  },
  {
   "cell_type": "markdown",
   "id": "8b02fe24",
   "metadata": {},
   "source": [
    "It can be seen above that Logistic Regression was the better model in predicting the level of lung cancer in both train and test sets. While this high accuracy of 99% may seem unrealistic, the precision, recall, and f1-scores has also had high results which shows that it can identify the classes correctly. Add to the fact that the dataset had close amount of each class, also rules out the imbalance. Therefore, it can be concluded that Logistic Regression is better in predicting lung cancer likelihood compared with Naive Bayes and further analysis of features will be made using the Logistic Regression model."
   ]
  },
  {
   "cell_type": "markdown",
   "id": "dcd01dc0",
   "metadata": {},
   "source": [
    "### See Weights"
   ]
  },
  {
   "cell_type": "code",
   "execution_count": 31,
   "id": "fc6deaf2",
   "metadata": {
    "scrolled": false
   },
   "outputs": [
    {
     "name": "stdout",
     "output_type": "stream",
     "text": [
      "Index(['Patient Id', 'Age', 'Gender', 'Air Pollution', 'Alcohol use',\n",
      "       'Dust Allergy', 'OccuPational Hazards', 'Genetic Risk',\n",
      "       'chronic Lung Disease', 'Balanced Diet', 'Obesity', 'Smoking',\n",
      "       'Passive Smoker', 'Chest Pain', 'Coughing of Blood', 'Fatigue',\n",
      "       'Weight Loss', 'Shortness of Breath', 'Wheezing',\n",
      "       'Swallowing Difficulty', 'Clubbing of Finger Nails', 'Level'],\n",
      "      dtype='object')\n",
      "['High' 'Low' 'Medium']\n",
      "[[-0.43109729 -0.0158753   1.96043546  1.54054023 -0.19093447 -0.02937905\n",
      "   0.3386353   0.84340818  1.40899758  1.84860302  0.61294049  2.54147184\n",
      "  -0.07467239  2.01067658  3.17950641  1.59390585  1.62744026  0.32068648\n",
      "   1.93745497  1.21069739]\n",
      " [-0.62286929  0.37065642 -0.73817849 -1.14844705 -0.82292255  0.10411514\n",
      "  -0.9212164  -0.43767659 -0.33025062 -2.67474808  0.02151208 -1.71629518\n",
      "   0.45434474 -1.51250244 -3.41448383 -0.28803272 -1.09634539 -2.69607003\n",
      "  -2.55756277 -2.85894484]\n",
      " [ 1.05396658 -0.35478112 -1.22225697 -0.39209318  1.01385703 -0.07473609\n",
      "   0.5825811  -0.40573159 -1.07874696  0.82614507 -0.63445258 -0.82517666\n",
      "  -0.37967235 -0.49817414  0.23497743 -1.30587314 -0.53109487  2.37538355\n",
      "   0.6201078   1.64824745]]\n"
     ]
    }
   ],
   "source": [
    "###Logistic Regression\n",
    "print(predictor_df.columns)\n",
    "print(log_reg.classes_)\n",
    "print(log_reg.coef_)"
   ]
  },
  {
   "cell_type": "code",
   "execution_count": 32,
   "id": "ee7f0828",
   "metadata": {},
   "outputs": [],
   "source": [
    "df2 = pd.DataFrame(log_reg.coef_, columns=x.columns)"
   ]
  },
  {
   "cell_type": "code",
   "execution_count": 33,
   "id": "f1aab241",
   "metadata": {
    "scrolled": true
   },
   "outputs": [
    {
     "data": {
      "text/html": [
       "<div>\n",
       "<style scoped>\n",
       "    .dataframe tbody tr th:only-of-type {\n",
       "        vertical-align: middle;\n",
       "    }\n",
       "\n",
       "    .dataframe tbody tr th {\n",
       "        vertical-align: top;\n",
       "    }\n",
       "\n",
       "    .dataframe thead th {\n",
       "        text-align: right;\n",
       "    }\n",
       "</style>\n",
       "<table border=\"1\" class=\"dataframe\">\n",
       "  <thead>\n",
       "    <tr style=\"text-align: right;\">\n",
       "      <th></th>\n",
       "      <th>Age</th>\n",
       "      <th>Gender</th>\n",
       "      <th>Air Pollution</th>\n",
       "      <th>Alcohol use</th>\n",
       "      <th>Dust Allergy</th>\n",
       "      <th>OccuPational Hazards</th>\n",
       "      <th>Genetic Risk</th>\n",
       "      <th>chronic Lung Disease</th>\n",
       "      <th>Balanced Diet</th>\n",
       "      <th>Obesity</th>\n",
       "      <th>Smoking</th>\n",
       "      <th>Passive Smoker</th>\n",
       "      <th>Chest Pain</th>\n",
       "      <th>Coughing of Blood</th>\n",
       "      <th>Fatigue</th>\n",
       "      <th>Weight Loss</th>\n",
       "      <th>Shortness of Breath</th>\n",
       "      <th>Wheezing</th>\n",
       "      <th>Swallowing Difficulty</th>\n",
       "      <th>Clubbing of Finger Nails</th>\n",
       "    </tr>\n",
       "  </thead>\n",
       "  <tbody>\n",
       "    <tr>\n",
       "      <th>High</th>\n",
       "      <td>-0.431097</td>\n",
       "      <td>-0.015875</td>\n",
       "      <td>1.960435</td>\n",
       "      <td>1.540540</td>\n",
       "      <td>-0.190934</td>\n",
       "      <td>-0.029379</td>\n",
       "      <td>0.338635</td>\n",
       "      <td>0.843408</td>\n",
       "      <td>1.408998</td>\n",
       "      <td>1.848603</td>\n",
       "      <td>0.612940</td>\n",
       "      <td>2.541472</td>\n",
       "      <td>-0.074672</td>\n",
       "      <td>2.010677</td>\n",
       "      <td>3.179506</td>\n",
       "      <td>1.593906</td>\n",
       "      <td>1.627440</td>\n",
       "      <td>0.320686</td>\n",
       "      <td>1.937455</td>\n",
       "      <td>1.210697</td>\n",
       "    </tr>\n",
       "    <tr>\n",
       "      <th>Low</th>\n",
       "      <td>-0.622869</td>\n",
       "      <td>0.370656</td>\n",
       "      <td>-0.738178</td>\n",
       "      <td>-1.148447</td>\n",
       "      <td>-0.822923</td>\n",
       "      <td>0.104115</td>\n",
       "      <td>-0.921216</td>\n",
       "      <td>-0.437677</td>\n",
       "      <td>-0.330251</td>\n",
       "      <td>-2.674748</td>\n",
       "      <td>0.021512</td>\n",
       "      <td>-1.716295</td>\n",
       "      <td>0.454345</td>\n",
       "      <td>-1.512502</td>\n",
       "      <td>-3.414484</td>\n",
       "      <td>-0.288033</td>\n",
       "      <td>-1.096345</td>\n",
       "      <td>-2.696070</td>\n",
       "      <td>-2.557563</td>\n",
       "      <td>-2.858945</td>\n",
       "    </tr>\n",
       "    <tr>\n",
       "      <th>Medium</th>\n",
       "      <td>1.053967</td>\n",
       "      <td>-0.354781</td>\n",
       "      <td>-1.222257</td>\n",
       "      <td>-0.392093</td>\n",
       "      <td>1.013857</td>\n",
       "      <td>-0.074736</td>\n",
       "      <td>0.582581</td>\n",
       "      <td>-0.405732</td>\n",
       "      <td>-1.078747</td>\n",
       "      <td>0.826145</td>\n",
       "      <td>-0.634453</td>\n",
       "      <td>-0.825177</td>\n",
       "      <td>-0.379672</td>\n",
       "      <td>-0.498174</td>\n",
       "      <td>0.234977</td>\n",
       "      <td>-1.305873</td>\n",
       "      <td>-0.531095</td>\n",
       "      <td>2.375384</td>\n",
       "      <td>0.620108</td>\n",
       "      <td>1.648247</td>\n",
       "    </tr>\n",
       "  </tbody>\n",
       "</table>\n",
       "</div>"
      ],
      "text/plain": [
       "             Age    Gender  Air Pollution  Alcohol use  Dust Allergy  \\\n",
       "High   -0.431097 -0.015875       1.960435     1.540540     -0.190934   \n",
       "Low    -0.622869  0.370656      -0.738178    -1.148447     -0.822923   \n",
       "Medium  1.053967 -0.354781      -1.222257    -0.392093      1.013857   \n",
       "\n",
       "        OccuPational Hazards  Genetic Risk  chronic Lung Disease  \\\n",
       "High               -0.029379      0.338635              0.843408   \n",
       "Low                 0.104115     -0.921216             -0.437677   \n",
       "Medium             -0.074736      0.582581             -0.405732   \n",
       "\n",
       "        Balanced Diet   Obesity   Smoking  Passive Smoker  Chest Pain  \\\n",
       "High         1.408998  1.848603  0.612940        2.541472   -0.074672   \n",
       "Low         -0.330251 -2.674748  0.021512       -1.716295    0.454345   \n",
       "Medium      -1.078747  0.826145 -0.634453       -0.825177   -0.379672   \n",
       "\n",
       "        Coughing of Blood   Fatigue  Weight Loss  Shortness of Breath  \\\n",
       "High             2.010677  3.179506     1.593906             1.627440   \n",
       "Low             -1.512502 -3.414484    -0.288033            -1.096345   \n",
       "Medium          -0.498174  0.234977    -1.305873            -0.531095   \n",
       "\n",
       "        Wheezing  Swallowing Difficulty  Clubbing of Finger Nails  \n",
       "High    0.320686               1.937455                  1.210697  \n",
       "Low    -2.696070              -2.557563                 -2.858945  \n",
       "Medium  2.375384               0.620108                  1.648247  "
      ]
     },
     "execution_count": 33,
     "metadata": {},
     "output_type": "execute_result"
    }
   ],
   "source": [
    "df2.set_index(log_reg.classes_)"
   ]
  },
  {
   "cell_type": "code",
   "execution_count": 34,
   "id": "ba43ab5f",
   "metadata": {
    "scrolled": false
   },
   "outputs": [
    {
     "data": {
      "image/png": "[encoded data removed]",
      "text/plain": [
       "<Figure size 720x504 with 1 Axes>"
      ]
     },
     "metadata": {
      "needs_background": "light"
     },
     "output_type": "display_data"
    }
   ],
   "source": [
    "fig = plt.figure(figsize =(10, 7))\n",
    "plt.barh(df2.keys(), df2.values[0], height = 0.75)\n",
    "plt.title(\"Correlation of Features and High Risk\")\n",
    "plt.show()"
   ]
  },
  {
   "cell_type": "markdown",
   "id": "82d9ce13",
   "metadata": {},
   "source": [
    "In high risk patients, it can be observed that the top 3 factors with the strongest correlation include **Fatigue** (3.179506), **Passive Smoking** (2.541472), and **Exposure to Air Pollution** (1.960435). Each of these 3 features possess very strong positive correlations, with **Fatigue** presenting itself as the best possible predictor for a high risk of lung cancer.\n",
    "<br><br>\n",
    "Findings also indicate that factors such as Chest pain, Occupational hazards, Dust allergies, and Gender possess weak negative correlations with having a high risk of lung cancer, and Age possesses a medium negative correlation with having a high risk of lung cancer.\n",
    "<br><br>"
   ]
  },
  {
   "cell_type": "code",
   "execution_count": 35,
   "id": "a123088d",
   "metadata": {
    "scrolled": false
   },
   "outputs": [
    {
     "data": {
      "image/png": "[encoded data removed]",
      "text/plain": [
       "<Figure size 720x504 with 1 Axes>"
      ]
     },
     "metadata": {
      "needs_background": "light"
     },
     "output_type": "display_data"
    }
   ],
   "source": [
    "fig = plt.figure(figsize =(10, 7))\n",
    "plt.barh(df2.keys(), df2.values[1], color='green', height = 0.75)\n",
    "plt.title(\"Correlation of Features and Low Risk\")\n",
    "plt.show()"
   ]
  },
  {
   "cell_type": "markdown",
   "id": "ab6428f5",
   "metadata": {},
   "source": [
    "In low risk patients, it can be observed that the top 3 factors with the highest correlation include **Fatigue** (-3.414484), **Clubbing of Finger Nails** (-2.858945), and **Wheezing** (-2.696070), each possessing strong negative correlations.\n",
    "<br><br>\n",
    "The findings also show that factors such as Gender and Chest Pain possess weak positive correlations with having a low risk of lung cancer. \n",
    "<br><br>"
   ]
  },
  {
   "cell_type": "code",
   "execution_count": 36,
   "id": "798bbbee",
   "metadata": {
    "scrolled": false
   },
   "outputs": [
    {
     "data": {
      "image/png": "[encoded data removed]",
      "text/plain": [
       "<Figure size 720x504 with 1 Axes>"
      ]
     },
     "metadata": {
      "needs_background": "light"
     },
     "output_type": "display_data"
    }
   ],
   "source": [
    "fig = plt.figure(figsize =(10, 7))\n",
    "plt.barh(df2.keys(), df2.values[0], color='indigo', height = 0.75)\n",
    "plt.title(\"Correlation of Features and Medium Risk\")\n",
    "plt.show()"
   ]
  },
  {
   "cell_type": "markdown",
   "id": "1218a84e",
   "metadata": {},
   "source": [
    "In medium risk patients, it can be observed that the top 3 factors with the highest correlation include **Fatigue** (0.234977), **Passive Smoking** (-0.825177), and **Coughing of Blood** (-0.498174), with each of these factors possessing strong positive correlations with a medium risk of lung cancer.\n",
    "<br><br>\n",
    "It is also worth noting that factors such as Age, Dust Allergies, and Chest Pain possess weak negative correlations with a medium risk of lung cancer.\n",
    "<br><br>"
   ]
  },
  {
   "cell_type": "markdown",
   "id": "0d179103",
   "metadata": {},
   "source": [
    "Based on what has been displayed by the findings, Fatigue has consistently displayed itself as a suitable predictor when determining a patient's risk of contracting lung cancer, displaying strong positive correlations for high and medium risk patients, and strong negative correlations for patients with low risk."
   ]
  }
 ],
 "metadata": {
  "kernelspec": {
   "display_name": "Python 3 (ipykernel)",
   "language": "python",
   "name": "python3"
  },
  "language_info": {
   "codemirror_mode": {
    "name": "ipython",
    "version": 3
   },
   "file_extension": ".py",
   "mimetype": "text/x-python",
   "name": "python",
   "nbconvert_exporter": "python",
   "pygments_lexer": "ipython3",
   "version": "3.9.12"
  },
  "vscode": {
   "interpreter": {
    "hash": "296d5770da7ae9ae81484ec0ad5af8768932556c5cc58879b92342a2304d2256"
   }
  }
 },
 "nbformat": 4,
 "nbformat_minor": 5
}
